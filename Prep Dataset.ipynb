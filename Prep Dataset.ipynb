{
 "cells": [
  {
   "cell_type": "code",
   "execution_count": 3,
   "id": "505178bc-a517-4e99-8abf-006acabc73bd",
   "metadata": {},
   "outputs": [],
   "source": [
    "import json\n",
    "import random\n",
    "\n",
    "def shorten_dataset(input_file, output_file, target_size, sampling_method=\"random\"):\n",
    "    \"\"\"\n",
    "    Shortens a JSON dataset file while preserving its structure.\n",
    "\n",
    "    Args:\n",
    "        input_file (str): Path to the input JSON file.\n",
    "        output_file (str): Path to save the shortened JSON file.\n",
    "        target_size (int): Desired number of examples in the shortened dataset.\n",
    "        sampling_method (str, optional): \"random\" (default) for uniform random sampling,\n",
    "                                          \"first\" to select the first N examples.\n",
    "    \"\"\"\n",
    "    with open(input_file, \"r\") as f:\n",
    "        data = json.load(f)\n",
    "\n",
    "    if sampling_method == \"random\":\n",
    "        shortened_data = random.sample(data, target_size)\n",
    "    elif sampling_method == \"first\":\n",
    "        shortened_data = data[:target_size]\n",
    "    else:\n",
    "        raise ValueError(\"Invalid sampling method. Choose 'random' or 'first'.\")\n",
    "\n",
    "    with open(output_file, \"w\") as f:\n",
    "        json.dump(shortened_data, f, indent=4) \n",
    "\n",
    "# Example usage\n",
    "input_file = \"finance_alpaca.json\"\n",
    "output_file = \"shortened_finance_alpaca.json\"\n",
    "target_size = 1200\n",
    "sampling_method = \"random\"\n",
    "\n",
    "shorten_dataset(input_file, output_file, target_size, sampling_method)\n"
   ]
  },
  {
   "cell_type": "code",
   "execution_count": null,
   "id": "9c138f30-9b38-4e73-a23f-de530625129b",
   "metadata": {},
   "outputs": [],
   "source": []
  }
 ],
 "metadata": {
  "kernelspec": {
   "display_name": "neural_chat",
   "language": "python",
   "name": "neural_chat"
  },
  "language_info": {
   "codemirror_mode": {
    "name": "ipython",
    "version": 3
   },
   "file_extension": ".py",
   "mimetype": "text/x-python",
   "name": "python",
   "nbconvert_exporter": "python",
   "pygments_lexer": "ipython3",
   "version": "3.9.18"
  }
 },
 "nbformat": 4,
 "nbformat_minor": 5
}
