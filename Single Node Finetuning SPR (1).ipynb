{
 "cells": [
  {
   "cell_type": "markdown",
   "metadata": {},
   "source": [
    "# Finetune Your Chatbot on a Single Node Xeon SPR "
   ]
  },
  {
   "cell_type": "markdown",
   "metadata": {},
   "source": [
    "NeuralChat is a customizable chat framework designed to create user own chatbot within few minutes on multiple architectures. This notebook will introduce how to finetune your chatbot on the customized data on a single node Xeon SPR."
   ]
  },
  {
   "cell_type": "markdown",
   "metadata": {},
   "source": [
    "## Prepare Environment"
   ]
  },
  {
   "cell_type": "markdown",
   "metadata": {},
   "source": [
    "Install intel extension for transformers:"
   ]
  },
  {
   "cell_type": "code",
   "execution_count": null,
   "metadata": {},
   "outputs": [],
   "source": [
    "!pip install intel-extension-for-transformers"
   ]
  },
  {
   "cell_type": "markdown",
   "metadata": {},
   "source": [
    "Install Requirements:"
   ]
  },
  {
   "cell_type": "code",
   "execution_count": null,
   "metadata": {},
   "outputs": [],
   "source": [
    "!git clone https://github.com/intel/intel-extension-for-transformers.git"
   ]
  },
  {
   "cell_type": "code",
   "execution_count": null,
   "metadata": {},
   "outputs": [],
   "source": [
    "%cd ./intel-extension-for-transformers/intel_extension_for_transformers/neural_chat/\n",
    "!pip install -r requirements.txt\n",
    "%cd ../../../"
   ]
  },
  {
   "cell_type": "markdown",
   "metadata": {},
   "source": [
    "## Prepare the Dataset\n",
    "We select 3 kind of datasets to conduct the finetuning process for different tasks.\n",
    "\n",
    "1. Text Generation (General domain instruction): We use the [Alpaca dataset](https://github.com/tatsu-lab/stanford_alpaca) from Stanford University as the general domain dataset to fine-tune the model. This dataset is provided in the form of a JSON file, [alpaca_data.json](https://github.com/tatsu-lab/stanford_alpaca/blob/main/alpaca_data.json). In Alpaca, researchers have manually crafted 175 seed tasks to guide `text-davinci-003` in generating 52K instruction data for diverse tasks.\n",
    "\n",
    "2. Summarization: An English-language dataset [cnn_dailymail](https://huggingface.co/datasets/cnn_dailymail) containing just over 300k unique news articles as written by journalists at CNN and the Daily Mail, is used for this task.\n",
    "\n",
    "3. Code Generation: To enhance code performance of LLMs (Large Language Models), we use the [theblackcat102/evol-codealpaca-v1](https://huggingface.co/datasets/theblackcat102/evol-codealpaca-v1).\n",
    "\n"
   ]
  },
  {
   "cell_type": "markdown",
   "metadata": {},
   "source": [
    "## Finetune Your Chatbot\n",
    "\n",
    "We employ the [LoRA approach](https://arxiv.org/pdf/2106.09685.pdf) to finetune the LLM efficiently."
   ]
  },
  {
   "cell_type": "markdown",
   "metadata": {},
   "source": [
    "Finetune the model on Alpaca-format dataset to conduct text generation:"
   ]
  },
  {
   "cell_type": "code",
   "execution_count": 1,
   "metadata": {
    "scrolled": true
   },
   "outputs": [
    {
     "name": "stderr",
     "output_type": "stream",
     "text": [
      "2024-07-07 13:13:01.011953: I tensorflow/core/util/port.cc:113] oneDNN custom operations are on. You may see slightly different numerical results due to floating-point round-off errors from different computation orders. To turn them off, set the environment variable `TF_ENABLE_ONEDNN_OPTS=0`.\n",
      "2024-07-07 13:13:01.770192: E external/local_xla/xla/stream_executor/cuda/cuda_fft.cc:479] Unable to register cuFFT factory: Attempting to register factory for plugin cuFFT when one has already been registered\n",
      "2024-07-07 13:13:01.972084: E external/local_xla/xla/stream_executor/cuda/cuda_dnn.cc:10575] Unable to register cuDNN factory: Attempting to register factory for plugin cuDNN when one has already been registered\n",
      "2024-07-07 13:13:01.972172: E external/local_xla/xla/stream_executor/cuda/cuda_blas.cc:1442] Unable to register cuBLAS factory: Attempting to register factory for plugin cuBLAS when one has already been registered\n",
      "2024-07-07 13:13:02.153124: I tensorflow/core/platform/cpu_feature_guard.cc:210] This TensorFlow binary is optimized to use available CPU instructions in performance-critical operations.\n",
      "To enable the following instructions: AVX2 AVX512F AVX512_VNNI AVX512_BF16 AVX512_FP16 AVX_VNNI AMX_TILE AMX_INT8 AMX_BF16 FMA, in other operations, rebuild TensorFlow with the appropriate compiler flags.\n",
      "2024-07-07 13:13:04.481242: W tensorflow/compiler/tf2tensorrt/utils/py_utils.cc:38] TF-TRT Warning: Could not find TensorRT\n",
      "/home/u5967164adf7529c9c911b5ad430e65f/env/lib/python3.9/site-packages/transformers/training_args.py:1489: FutureWarning: using `no_cuda` is deprecated and will be removed in version 5.0 of 🤗 Transformers. Use `use_cpu` instead\n",
      "  warnings.warn(\n",
      "2024-07-07 13:13:06,267 - _logger.py - intel_extension_for_transformers.transformers.llm.finetuning.finetuning - WARNING - Process rank: 0, device: cpu\n",
      "distributed training: True, 16-bits training: True\n",
      "2024-07-07 13:13:06,269 - finetuning.py - intel_extension_for_transformers.transformers.llm.finetuning.finetuning - INFO - Training/evaluation parameters TrainingArguments(\n",
      "_n_gpu=0,\n",
      "accelerator_config={'split_batches': False, 'dispatch_batches': None, 'even_batches': True, 'use_seedable_sampler': True, 'non_blocking': False, 'gradient_accumulation_kwargs': None},\n",
      "adafactor=False,\n",
      "adam_beta1=0.9,\n",
      "adam_beta2=0.999,\n",
      "adam_epsilon=1e-08,\n",
      "auto_find_batch_size=False,\n",
      "batch_eval_metrics=False,\n",
      "bf16=True,\n",
      "bf16_full_eval=False,\n",
      "data_seed=None,\n",
      "dataloader_drop_last=False,\n",
      "dataloader_num_workers=0,\n",
      "dataloader_persistent_workers=False,\n",
      "dataloader_pin_memory=False,\n",
      "dataloader_prefetch_factor=None,\n",
      "ddp_backend=None,\n",
      "ddp_broadcast_buffers=None,\n",
      "ddp_bucket_cap_mb=None,\n",
      "ddp_find_unused_parameters=None,\n",
      "ddp_timeout=1800,\n",
      "debug=[],\n",
      "deepspeed=None,\n",
      "disable_tqdm=False,\n",
      "dispatch_batches=None,\n",
      "do_eval=True,\n",
      "do_predict=False,\n",
      "do_train=True,\n",
      "eval_accumulation_steps=None,\n",
      "eval_delay=0,\n",
      "eval_do_concat_batches=True,\n",
      "eval_steps=None,\n",
      "eval_strategy=no,\n",
      "evaluation_strategy=None,\n",
      "fp16=False,\n",
      "fp16_backend=auto,\n",
      "fp16_full_eval=False,\n",
      "fp16_opt_level=O1,\n",
      "fsdp=[],\n",
      "fsdp_config={'min_num_params': 0, 'xla': False, 'xla_fsdp_v2': False, 'xla_fsdp_grad_ckpt': False},\n",
      "fsdp_min_num_params=0,\n",
      "fsdp_transformer_layer_cls_to_wrap=None,\n",
      "full_determinism=False,\n",
      "gradient_accumulation_steps=2,\n",
      "gradient_checkpointing=False,\n",
      "gradient_checkpointing_kwargs=None,\n",
      "greater_is_better=None,\n",
      "group_by_length=False,\n",
      "half_precision_backend=auto,\n",
      "hub_always_push=False,\n",
      "hub_model_id=None,\n",
      "hub_private_repo=False,\n",
      "hub_strategy=every_save,\n",
      "hub_token=<HUB_TOKEN>,\n",
      "ignore_data_skip=False,\n",
      "include_inputs_for_metrics=False,\n",
      "include_num_input_tokens_seen=False,\n",
      "include_tokens_per_second=False,\n",
      "jit_mode_eval=False,\n",
      "label_names=None,\n",
      "label_smoothing_factor=0.0,\n",
      "learning_rate=5e-05,\n",
      "length_column_name=length,\n",
      "load_best_model_at_end=False,\n",
      "local_rank=0,\n",
      "log_level=info,\n",
      "log_level_replica=warning,\n",
      "log_on_each_node=True,\n",
      "logging_dir=./tmp/runs/Jul07_13-12-59_idc-training-gpu-compute-08,\n",
      "logging_first_step=False,\n",
      "logging_nan_inf_filter=True,\n",
      "logging_steps=500,\n",
      "logging_strategy=steps,\n",
      "lr_scheduler_kwargs={},\n",
      "lr_scheduler_type=linear,\n",
      "max_grad_norm=1.0,\n",
      "max_steps=-1,\n",
      "metric_for_best_model=None,\n",
      "mp_parameters=,\n",
      "neftune_noise_alpha=None,\n",
      "no_cuda=True,\n",
      "num_train_epochs=1,\n",
      "optim=adamw_torch,\n",
      "optim_args=None,\n",
      "optim_target_modules=None,\n",
      "output_dir=./tmp,\n",
      "overwrite_output_dir=True,\n",
      "past_index=-1,\n",
      "per_device_eval_batch_size=4,\n",
      "per_device_train_batch_size=8,\n",
      "prediction_loss_only=False,\n",
      "push_to_hub=False,\n",
      "push_to_hub_model_id=None,\n",
      "push_to_hub_organization=None,\n",
      "push_to_hub_token=<PUSH_TO_HUB_TOKEN>,\n",
      "ray_scope=last,\n",
      "remove_unused_columns=True,\n",
      "report_to=['tensorboard'],\n",
      "restore_callback_states_from_checkpoint=False,\n",
      "resume_from_checkpoint=None,\n",
      "run_name=./tmp,\n",
      "save_on_each_node=False,\n",
      "save_only_model=False,\n",
      "save_safetensors=True,\n",
      "save_steps=500,\n",
      "save_strategy=no,\n",
      "save_total_limit=2,\n",
      "seed=42,\n",
      "skip_memory_metrics=True,\n",
      "split_batches=None,\n",
      "tf32=None,\n",
      "torch_compile=False,\n",
      "torch_compile_backend=None,\n",
      "torch_compile_mode=None,\n",
      "torchdynamo=None,\n",
      "tpu_metrics_debug=False,\n",
      "tpu_num_cores=None,\n",
      "use_cpu=True,\n",
      "use_ipex=False,\n",
      "use_legacy_prediction_loop=False,\n",
      "use_mps_device=False,\n",
      "warmup_ratio=0.0,\n",
      "warmup_steps=0,\n",
      "weight_decay=0.0,\n",
      ")\n",
      "/home/u5967164adf7529c9c911b5ad430e65f/env/lib/python3.9/site-packages/huggingface_hub/file_download.py:1132: FutureWarning: `resume_download` is deprecated and will be removed in version 1.0.0. Downloads always resume when possible. If you want to force a new download, use `force_download=True`.\n",
      "  warnings.warn(\n",
      "[INFO|configuration_utils.py:733] 2024-07-07 13:13:06,936 >> loading configuration file config.json from cache at /home/u5967164adf7529c9c911b5ad430e65f/.cache/huggingface/hub/models--meta-llama--Llama-2-7b-hf/snapshots/01c7f73d771dfac7d292323805ebc428287df4f9/config.json\n",
      "[INFO|configuration_utils.py:796] 2024-07-07 13:13:06,942 >> Model config LlamaConfig {\n",
      "  \"_name_or_path\": \"meta-llama/Llama-2-7b-hf\",\n",
      "  \"architectures\": [\n",
      "    \"LlamaForCausalLM\"\n",
      "  ],\n",
      "  \"attention_bias\": false,\n",
      "  \"attention_dropout\": 0.0,\n",
      "  \"bos_token_id\": 1,\n",
      "  \"eos_token_id\": 2,\n",
      "  \"hidden_act\": \"silu\",\n",
      "  \"hidden_size\": 4096,\n",
      "  \"initializer_range\": 0.02,\n",
      "  \"intermediate_size\": 11008,\n",
      "  \"max_position_embeddings\": 4096,\n",
      "  \"mlp_bias\": false,\n",
      "  \"model_type\": \"llama\",\n",
      "  \"num_attention_heads\": 32,\n",
      "  \"num_hidden_layers\": 32,\n",
      "  \"num_key_value_heads\": 32,\n",
      "  \"pretraining_tp\": 1,\n",
      "  \"rms_norm_eps\": 1e-05,\n",
      "  \"rope_scaling\": null,\n",
      "  \"rope_theta\": 10000.0,\n",
      "  \"tie_word_embeddings\": false,\n",
      "  \"torch_dtype\": \"float16\",\n",
      "  \"transformers_version\": \"4.41.2\",\n",
      "  \"use_cache\": true,\n",
      "  \"vocab_size\": 32000\n",
      "}\n",
      "\n",
      "[INFO|tokenization_utils_base.py:2108] 2024-07-07 13:13:07,056 >> loading file tokenizer.model from cache at /home/u5967164adf7529c9c911b5ad430e65f/.cache/huggingface/hub/models--meta-llama--Llama-2-7b-hf/snapshots/01c7f73d771dfac7d292323805ebc428287df4f9/tokenizer.model\n",
      "[INFO|tokenization_utils_base.py:2108] 2024-07-07 13:13:07,058 >> loading file added_tokens.json from cache at None\n",
      "[INFO|tokenization_utils_base.py:2108] 2024-07-07 13:13:07,059 >> loading file special_tokens_map.json from cache at /home/u5967164adf7529c9c911b5ad430e65f/.cache/huggingface/hub/models--meta-llama--Llama-2-7b-hf/snapshots/01c7f73d771dfac7d292323805ebc428287df4f9/special_tokens_map.json\n",
      "[INFO|tokenization_utils_base.py:2108] 2024-07-07 13:13:07,060 >> loading file tokenizer_config.json from cache at /home/u5967164adf7529c9c911b5ad430e65f/.cache/huggingface/hub/models--meta-llama--Llama-2-7b-hf/snapshots/01c7f73d771dfac7d292323805ebc428287df4f9/tokenizer_config.json\n",
      "[INFO|tokenization_utils_base.py:2108] 2024-07-07 13:13:07,061 >> loading file tokenizer.json from cache at /home/u5967164adf7529c9c911b5ad430e65f/.cache/huggingface/hub/models--meta-llama--Llama-2-7b-hf/snapshots/01c7f73d771dfac7d292323805ebc428287df4f9/tokenizer.json\n",
      "Using custom data configuration default-25291a1485438bd6\n",
      "2024-07-07 13:13:07,503 - builder.py - datasets.builder - INFO - Using custom data configuration default-25291a1485438bd6\n",
      "Loading Dataset Infos from /home/u5967164adf7529c9c911b5ad430e65f/env/lib/python3.9/site-packages/datasets/packaged_modules/json\n",
      "2024-07-07 13:13:07,507 - info.py - datasets.info - INFO - Loading Dataset Infos from /home/u5967164adf7529c9c911b5ad430e65f/env/lib/python3.9/site-packages/datasets/packaged_modules/json\n",
      "Overwrite dataset info from restored data version if exists.\n",
      "2024-07-07 13:13:07,515 - builder.py - datasets.builder - INFO - Overwrite dataset info from restored data version if exists.\n",
      "Loading Dataset info from /home/u5967164adf7529c9c911b5ad430e65f/.cache/huggingface/datasets/json/default-25291a1485438bd6/0.0.0/7483f22a71512872c377524b97484f6d20c275799bb9e7cd8fb3198178d8220a\n",
      "2024-07-07 13:13:07,517 - info.py - datasets.info - INFO - Loading Dataset info from /home/u5967164adf7529c9c911b5ad430e65f/.cache/huggingface/datasets/json/default-25291a1485438bd6/0.0.0/7483f22a71512872c377524b97484f6d20c275799bb9e7cd8fb3198178d8220a\n",
      "Found cached dataset json (/home/u5967164adf7529c9c911b5ad430e65f/.cache/huggingface/datasets/json/default-25291a1485438bd6/0.0.0/7483f22a71512872c377524b97484f6d20c275799bb9e7cd8fb3198178d8220a)\n",
      "2024-07-07 13:13:07,529 - builder.py - datasets.builder - INFO - Found cached dataset json (/home/u5967164adf7529c9c911b5ad430e65f/.cache/huggingface/datasets/json/default-25291a1485438bd6/0.0.0/7483f22a71512872c377524b97484f6d20c275799bb9e7cd8fb3198178d8220a)\n",
      "Loading Dataset info from /home/u5967164adf7529c9c911b5ad430e65f/.cache/huggingface/datasets/json/default-25291a1485438bd6/0.0.0/7483f22a71512872c377524b97484f6d20c275799bb9e7cd8fb3198178d8220a\n",
      "2024-07-07 13:13:07,531 - info.py - datasets.info - INFO - Loading Dataset info from /home/u5967164adf7529c9c911b5ad430e65f/.cache/huggingface/datasets/json/default-25291a1485438bd6/0.0.0/7483f22a71512872c377524b97484f6d20c275799bb9e7cd8fb3198178d8220a\n",
      "Using custom data configuration default-25291a1485438bd6\n",
      "2024-07-07 13:13:07,800 - builder.py - datasets.builder - INFO - Using custom data configuration default-25291a1485438bd6\n",
      "Loading Dataset Infos from /home/u5967164adf7529c9c911b5ad430e65f/env/lib/python3.9/site-packages/datasets/packaged_modules/json\n",
      "2024-07-07 13:13:07,802 - info.py - datasets.info - INFO - Loading Dataset Infos from /home/u5967164adf7529c9c911b5ad430e65f/env/lib/python3.9/site-packages/datasets/packaged_modules/json\n",
      "Overwrite dataset info from restored data version if exists.\n",
      "2024-07-07 13:13:07,808 - builder.py - datasets.builder - INFO - Overwrite dataset info from restored data version if exists.\n",
      "Loading Dataset info from /home/u5967164adf7529c9c911b5ad430e65f/.cache/huggingface/datasets/json/default-25291a1485438bd6/0.0.0/7483f22a71512872c377524b97484f6d20c275799bb9e7cd8fb3198178d8220a\n",
      "2024-07-07 13:13:07,810 - info.py - datasets.info - INFO - Loading Dataset info from /home/u5967164adf7529c9c911b5ad430e65f/.cache/huggingface/datasets/json/default-25291a1485438bd6/0.0.0/7483f22a71512872c377524b97484f6d20c275799bb9e7cd8fb3198178d8220a\n",
      "Found cached dataset json (/home/u5967164adf7529c9c911b5ad430e65f/.cache/huggingface/datasets/json/default-25291a1485438bd6/0.0.0/7483f22a71512872c377524b97484f6d20c275799bb9e7cd8fb3198178d8220a)\n",
      "2024-07-07 13:13:07,816 - builder.py - datasets.builder - INFO - Found cached dataset json (/home/u5967164adf7529c9c911b5ad430e65f/.cache/huggingface/datasets/json/default-25291a1485438bd6/0.0.0/7483f22a71512872c377524b97484f6d20c275799bb9e7cd8fb3198178d8220a)\n",
      "Loading Dataset info from /home/u5967164adf7529c9c911b5ad430e65f/.cache/huggingface/datasets/json/default-25291a1485438bd6/0.0.0/7483f22a71512872c377524b97484f6d20c275799bb9e7cd8fb3198178d8220a\n",
      "2024-07-07 13:13:07,818 - info.py - datasets.info - INFO - Loading Dataset info from /home/u5967164adf7529c9c911b5ad430e65f/.cache/huggingface/datasets/json/default-25291a1485438bd6/0.0.0/7483f22a71512872c377524b97484f6d20c275799bb9e7cd8fb3198178d8220a\n",
      "Using custom data configuration default-25291a1485438bd6\n",
      "2024-07-07 13:13:08,068 - builder.py - datasets.builder - INFO - Using custom data configuration default-25291a1485438bd6\n",
      "Loading Dataset Infos from /home/u5967164adf7529c9c911b5ad430e65f/env/lib/python3.9/site-packages/datasets/packaged_modules/json\n",
      "2024-07-07 13:13:08,070 - info.py - datasets.info - INFO - Loading Dataset Infos from /home/u5967164adf7529c9c911b5ad430e65f/env/lib/python3.9/site-packages/datasets/packaged_modules/json\n",
      "Overwrite dataset info from restored data version if exists.\n",
      "2024-07-07 13:13:08,076 - builder.py - datasets.builder - INFO - Overwrite dataset info from restored data version if exists.\n",
      "Loading Dataset info from /home/u5967164adf7529c9c911b5ad430e65f/.cache/huggingface/datasets/json/default-25291a1485438bd6/0.0.0/7483f22a71512872c377524b97484f6d20c275799bb9e7cd8fb3198178d8220a\n",
      "2024-07-07 13:13:08,077 - info.py - datasets.info - INFO - Loading Dataset info from /home/u5967164adf7529c9c911b5ad430e65f/.cache/huggingface/datasets/json/default-25291a1485438bd6/0.0.0/7483f22a71512872c377524b97484f6d20c275799bb9e7cd8fb3198178d8220a\n",
      "Found cached dataset json (/home/u5967164adf7529c9c911b5ad430e65f/.cache/huggingface/datasets/json/default-25291a1485438bd6/0.0.0/7483f22a71512872c377524b97484f6d20c275799bb9e7cd8fb3198178d8220a)\n",
      "2024-07-07 13:13:08,084 - builder.py - datasets.builder - INFO - Found cached dataset json (/home/u5967164adf7529c9c911b5ad430e65f/.cache/huggingface/datasets/json/default-25291a1485438bd6/0.0.0/7483f22a71512872c377524b97484f6d20c275799bb9e7cd8fb3198178d8220a)\n",
      "Loading Dataset info from /home/u5967164adf7529c9c911b5ad430e65f/.cache/huggingface/datasets/json/default-25291a1485438bd6/0.0.0/7483f22a71512872c377524b97484f6d20c275799bb9e7cd8fb3198178d8220a\n",
      "2024-07-07 13:13:08,086 - info.py - datasets.info - INFO - Loading Dataset info from /home/u5967164adf7529c9c911b5ad430e65f/.cache/huggingface/datasets/json/default-25291a1485438bd6/0.0.0/7483f22a71512872c377524b97484f6d20c275799bb9e7cd8fb3198178d8220a\n",
      "[INFO|modeling_utils.py:3474] 2024-07-07 13:13:08,294 >> loading weights file model.safetensors from cache at /home/u5967164adf7529c9c911b5ad430e65f/.cache/huggingface/hub/models--meta-llama--Llama-2-7b-hf/snapshots/01c7f73d771dfac7d292323805ebc428287df4f9/model.safetensors.index.json\n",
      "[INFO|modeling_utils.py:1519] 2024-07-07 13:13:08,300 >> Instantiating LlamaForCausalLM model under default dtype torch.bfloat16.\n",
      "[INFO|configuration_utils.py:962] 2024-07-07 13:13:08,305 >> Generate config GenerationConfig {\n",
      "  \"bos_token_id\": 1,\n",
      "  \"eos_token_id\": 2\n",
      "}\n",
      "\n"
     ]
    },
    {
     "data": {
      "application/vnd.jupyter.widget-view+json": {
       "model_id": "4213935ff7754d61a797d1d8791ca87f",
       "version_major": 2,
       "version_minor": 0
      },
      "text/plain": [
       "Loading checkpoint shards:   0%|          | 0/2 [00:00<?, ?it/s]"
      ]
     },
     "metadata": {},
     "output_type": "display_data"
    },
    {
     "name": "stderr",
     "output_type": "stream",
     "text": [
      "[INFO|modeling_utils.py:4280] 2024-07-07 13:13:52,163 >> All model checkpoint weights were used when initializing LlamaForCausalLM.\n",
      "\n",
      "[INFO|modeling_utils.py:4288] 2024-07-07 13:13:52,165 >> All the weights of LlamaForCausalLM were initialized from the model checkpoint at meta-llama/Llama-2-7b-hf.\n",
      "If your task is similar to the task the model of the checkpoint was trained on, you can already use LlamaForCausalLM for predictions without further training.\n",
      "[INFO|configuration_utils.py:917] 2024-07-07 13:13:52,257 >> loading configuration file generation_config.json from cache at /home/u5967164adf7529c9c911b5ad430e65f/.cache/huggingface/hub/models--meta-llama--Llama-2-7b-hf/snapshots/01c7f73d771dfac7d292323805ebc428287df4f9/generation_config.json\n",
      "[INFO|configuration_utils.py:962] 2024-07-07 13:13:52,258 >> Generate config GenerationConfig {\n",
      "  \"bos_token_id\": 1,\n",
      "  \"do_sample\": true,\n",
      "  \"eos_token_id\": 2,\n",
      "  \"max_length\": 4096,\n",
      "  \"pad_token_id\": 0,\n",
      "  \"temperature\": 0.6,\n",
      "  \"top_p\": 0.9\n",
      "}\n",
      "\n",
      "Loading cached processed dataset at /home/u5967164adf7529c9c911b5ad430e65f/.cache/huggingface/datasets/json/default-25291a1485438bd6/0.0.0/7483f22a71512872c377524b97484f6d20c275799bb9e7cd8fb3198178d8220a/cache-50f513a210be99cc.arrow\n",
      "2024-07-07 13:13:52,451 - arrow_dataset.py - datasets.arrow_dataset - INFO - Loading cached processed dataset at /home/u5967164adf7529c9c911b5ad430e65f/.cache/huggingface/datasets/json/default-25291a1485438bd6/0.0.0/7483f22a71512872c377524b97484f6d20c275799bb9e7cd8fb3198178d8220a/cache-50f513a210be99cc.arrow\n",
      "Loading cached processed dataset at /home/u5967164adf7529c9c911b5ad430e65f/.cache/huggingface/datasets/json/default-25291a1485438bd6/0.0.0/7483f22a71512872c377524b97484f6d20c275799bb9e7cd8fb3198178d8220a/cache-18b585bd48f55054.arrow\n",
      "2024-07-07 13:13:52,464 - arrow_dataset.py - datasets.arrow_dataset - INFO - Loading cached processed dataset at /home/u5967164adf7529c9c911b5ad430e65f/.cache/huggingface/datasets/json/default-25291a1485438bd6/0.0.0/7483f22a71512872c377524b97484f6d20c275799bb9e7cd8fb3198178d8220a/cache-18b585bd48f55054.arrow\n",
      "2024-07-07 13:13:52,466 - finetuning.py - intel_extension_for_transformers.transformers.llm.finetuning.finetuning - INFO - Using data collator of type DataCollatorForSeq2Seq\n",
      "[INFO|trainer.py:641] 2024-07-07 13:13:52,697 >> Using cpu_amp half precision backend\n"
     ]
    },
    {
     "name": "stdout",
     "output_type": "stream",
     "text": [
      "trainable params: 4,194,304 || all params: 6,742,609,920 || trainable%: 0.06220594176090199\n"
     ]
    },
    {
     "name": "stderr",
     "output_type": "stream",
     "text": [
      "[INFO|trainer.py:2078] 2024-07-07 13:13:52,925 >> ***** Running training *****\n",
      "[INFO|trainer.py:2079] 2024-07-07 13:13:52,926 >>   Num examples = 1,188\n",
      "[INFO|trainer.py:2080] 2024-07-07 13:13:52,927 >>   Num Epochs = 1\n",
      "[INFO|trainer.py:2081] 2024-07-07 13:13:52,928 >>   Instantaneous batch size per device = 8\n",
      "[INFO|trainer.py:2084] 2024-07-07 13:13:52,929 >>   Total train batch size (w. parallel, distributed & accumulation) = 16\n",
      "[INFO|trainer.py:2085] 2024-07-07 13:13:52,929 >>   Gradient Accumulation steps = 2\n",
      "[INFO|trainer.py:2086] 2024-07-07 13:13:52,930 >>   Total optimization steps = 74\n",
      "[INFO|trainer.py:2087] 2024-07-07 13:13:52,932 >>   Number of trainable parameters = 4,194,304\n"
     ]
    },
    {
     "data": {
      "text/html": [
       "\n",
       "    <div>\n",
       "      \n",
       "      <progress value='74' max='74' style='width:300px; height:20px; vertical-align: middle;'></progress>\n",
       "      [74/74 1:16:44, Epoch 0/1]\n",
       "    </div>\n",
       "    <table border=\"1\" class=\"dataframe\">\n",
       "  <thead>\n",
       " <tr style=\"text-align: left;\">\n",
       "      <th>Step</th>\n",
       "      <th>Training Loss</th>\n",
       "    </tr>\n",
       "  </thead>\n",
       "  <tbody>\n",
       "  </tbody>\n",
       "</table><p>"
      ],
      "text/plain": [
       "<IPython.core.display.HTML object>"
      ]
     },
     "metadata": {},
     "output_type": "display_data"
    },
    {
     "name": "stderr",
     "output_type": "stream",
     "text": [
      "[INFO|trainer.py:2329] 2024-07-07 14:32:16,611 >> \n",
      "\n",
      "Training completed. Do not forget to share your model on huggingface.co/models =)\n",
      "\n",
      "\n",
      "[INFO|trainer.py:3410] 2024-07-07 14:32:16,616 >> Saving model checkpoint to ./tmp\n",
      "[INFO|tokenization_utils_base.py:2513] 2024-07-07 14:32:16,651 >> tokenizer config file saved in ./tmp/tokenizer_config.json\n",
      "[INFO|tokenization_utils_base.py:2522] 2024-07-07 14:32:16,653 >> Special tokens file saved in ./tmp/special_tokens_map.json\n",
      "2024-07-07 14:32:16,674 - finetuning.py - intel_extension_for_transformers.transformers.llm.finetuning.finetuning - INFO - *** Evaluate After Training***\n",
      "[INFO|trainer.py:3719] 2024-07-07 14:32:16,680 >> ***** Running Evaluation *****\n",
      "[INFO|trainer.py:3721] 2024-07-07 14:32:16,681 >>   Num examples = 12\n",
      "[INFO|trainer.py:3724] 2024-07-07 14:32:16,681 >>   Batch size = 4\n"
     ]
    },
    {
     "data": {
      "text/html": [
       "\n",
       "    <div>\n",
       "      \n",
       "      <progress value='3' max='3' style='width:300px; height:20px; vertical-align: middle;'></progress>\n",
       "      [3/3 00:05]\n",
       "    </div>\n",
       "    "
      ],
      "text/plain": [
       "<IPython.core.display.HTML object>"
      ]
     },
     "metadata": {},
     "output_type": "display_data"
    },
    {
     "name": "stdout",
     "output_type": "stream",
     "text": [
      "***** eval metrics *****\n",
      "  epoch                   =     0.9933\n",
      "  eval_loss               =     0.5934\n",
      "  eval_ppl                =       1.81\n",
      "  eval_runtime            = 0:00:10.90\n",
      "  eval_samples            =         12\n",
      "  eval_samples_per_second =        1.1\n",
      "  eval_steps_per_second   =      0.275\n"
     ]
    }
   ],
   "source": [
    "from transformers import TrainingArguments\n",
    "from intel_extension_for_transformers.neural_chat.config import (\n",
    "    ModelArguments,\n",
    "    DataArguments,\n",
    "    FinetuningArguments,\n",
    "    TextGenerationFinetuningConfig,\n",
    ")\n",
    "from intel_extension_for_transformers.neural_chat.chatbot import finetune_model\n",
    "model_args = ModelArguments(model_name_or_path=\"meta-llama/Llama-2-7b-hf\")\n",
    "data_args = DataArguments(train_file=\"shortened_finance_alpaca.json\", validation_split_percentage=1)\n",
    "training_args = TrainingArguments(\n",
    "    output_dir='./tmp',\n",
    "    do_train=True,\n",
    "    do_eval=True,\n",
    "    num_train_epochs=1,\n",
    "    overwrite_output_dir=True,\n",
    "    per_device_train_batch_size=8,\n",
    "    per_device_eval_batch_size=4,\n",
    "    gradient_accumulation_steps=2,\n",
    "    save_strategy=\"no\",\n",
    "    log_level=\"info\",\n",
    "    save_total_limit=2,\n",
    "    bf16=True,\n",
    "    learning_rate=5e-5,\n",
    ")\n",
    "finetune_args = FinetuningArguments()\n",
    "finetune_cfg = TextGenerationFinetuningConfig(\n",
    "            model_args=model_args,\n",
    "            data_args=data_args,\n",
    "            training_args=training_args,\n",
    "            finetune_args=finetune_args,\n",
    "        )\n",
    "finetune_model(finetune_cfg)"
   ]
  },
  {
   "cell_type": "code",
   "execution_count": 4,
   "metadata": {},
   "outputs": [
    {
     "name": "stdout",
     "output_type": "stream",
     "text": [
      "Defaulting to user installation because normal site-packages is not writeable\n",
      "Requirement already satisfied: huggingface_hub in /home/u5967164adf7529c9c911b5ad430e65f/.local/lib/python3.9/site-packages (0.23.4)\n",
      "Requirement already satisfied: filelock in /home/u5967164adf7529c9c911b5ad430e65f/.local/lib/python3.9/site-packages (from huggingface_hub) (3.15.4)\n",
      "Requirement already satisfied: fsspec>=2023.5.0 in /home/u5967164adf7529c9c911b5ad430e65f/.local/lib/python3.9/site-packages (from huggingface_hub) (2024.5.0)\n",
      "Requirement already satisfied: packaging>=20.9 in /opt/intel/oneapi/intelpython/lib/python3.9/site-packages (from huggingface_hub) (23.2)\n",
      "Requirement already satisfied: pyyaml>=5.1 in /opt/intel/oneapi/intelpython/lib/python3.9/site-packages (from huggingface_hub) (6.0.1)\n",
      "Requirement already satisfied: requests in /home/u5967164adf7529c9c911b5ad430e65f/.local/lib/python3.9/site-packages (from huggingface_hub) (2.32.3)\n",
      "Requirement already satisfied: tqdm>=4.42.1 in /home/u5967164adf7529c9c911b5ad430e65f/.local/lib/python3.9/site-packages (from huggingface_hub) (4.66.4)\n",
      "Requirement already satisfied: typing-extensions>=3.7.4.3 in /home/u5967164adf7529c9c911b5ad430e65f/.local/lib/python3.9/site-packages (from huggingface_hub) (4.12.2)\n",
      "Requirement already satisfied: charset-normalizer<4,>=2 in /opt/intel/oneapi/intelpython/lib/python3.9/site-packages (from requests->huggingface_hub) (3.3.2)\n",
      "Requirement already satisfied: idna<4,>=2.5 in /opt/intel/oneapi/intelpython/lib/python3.9/site-packages (from requests->huggingface_hub) (3.6)\n",
      "Requirement already satisfied: urllib3<3,>=1.21.1 in /opt/intel/oneapi/intelpython/lib/python3.9/site-packages (from requests->huggingface_hub) (2.2.1)\n",
      "Requirement already satisfied: certifi>=2017.4.17 in /opt/intel/oneapi/intelpython/lib/python3.9/site-packages (from requests->huggingface_hub) (2024.2.2)\n"
     ]
    }
   ],
   "source": [
    "!pip install huggingface_hub\n"
   ]
  },
  {
   "cell_type": "markdown",
   "metadata": {},
   "source": [
    "Upload finetuned model on Hugging Face hub"
   ]
  },
  {
   "cell_type": "code",
   "execution_count": null,
   "metadata": {},
   "outputs": [],
   "source": [
    "from huggingface_hub import HfApi, upload_folder\n",
    "\n",
    "repo_name = \"madanarnav/finance-llama-v4\"\n",
    "\n",
    "\n",
    "model_path = \"./tmp\"\n",
    "\n",
    "api = HfApi()\n",
    "\n",
    "api.create_repo(repo_name, private=False)\n",
    "\n",
    "upload_folder(\n",
    "    folder_path=model_path,\n",
    "    repo_id=repo_name,\n",
    "    repo_type=\"model\",\n",
    "    commit_message=\"Initial commit of the fine-tuned model\"\n",
    ")\n",
    "\n"
   ]
  }
 ],
 "metadata": {
  "kernelspec": {
   "display_name": "neural_chat",
   "language": "python",
   "name": "neural_chat"
  },
  "language_info": {
   "codemirror_mode": {
    "name": "ipython",
    "version": 3
   },
   "file_extension": ".py",
   "mimetype": "text/x-python",
   "name": "python",
   "nbconvert_exporter": "python",
   "pygments_lexer": "ipython3",
   "version": "3.9.18"
  }
 },
 "nbformat": 4,
 "nbformat_minor": 4
}
