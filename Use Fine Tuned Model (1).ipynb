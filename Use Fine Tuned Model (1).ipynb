{
 "cells": [
  {
   "cell_type": "code",
   "execution_count": 3,
   "id": "510f6d63-3741-420b-abfc-0789680098bd",
   "metadata": {},
   "outputs": [
    {
     "name": "stderr",
     "output_type": "stream",
     "text": [
      "huggingface/tokenizers: The current process just got forked, after parallelism has already been used. Disabling parallelism to avoid deadlocks...\n",
      "To disable this warning, you can either:\n",
      "\t- Avoid using `tokenizers` before the fork if possible\n",
      "\t- Explicitly set the environment variable TOKENIZERS_PARALLELISM=(true | false)\n",
      "huggingface/tokenizers: The current process just got forked, after parallelism has already been used. Disabling parallelism to avoid deadlocks...\n",
      "To disable this warning, you can either:\n",
      "\t- Avoid using `tokenizers` before the fork if possible\n",
      "\t- Explicitly set the environment variable TOKENIZERS_PARALLELISM=(true | false)\n",
      "/home/u5967164adf7529c9c911b5ad430e65f/env/lib/python3.9/site-packages/transformers/deepspeed.py:23: FutureWarning: transformers.deepspeed module is deprecated and will be removed in a future version. Please import deepspeed modules directly from transformers.integrations\n",
      "  warnings.warn(\n",
      "/home/u5967164adf7529c9c911b5ad430e65f/env/lib/python3.9/site-packages/huggingface_hub/file_download.py:1132: FutureWarning: `resume_download` is deprecated and will be removed in version 1.0.0. Downloads always resume when possible. If you want to force a new download, use `force_download=True`.\n",
      "  warnings.warn(\n"
     ]
    },
    {
     "name": "stdout",
     "output_type": "stream",
     "text": [
      "Loading model meta-llama/Llama-2-7b-chat-hf\n"
     ]
    },
    {
     "data": {
      "application/vnd.jupyter.widget-view+json": {
       "model_id": "ef4a5279558c45e089b87b9f41101a06",
       "version_major": 2,
       "version_minor": 0
      },
      "text/plain": [
       "Loading checkpoint shards:   0%|          | 0/2 [00:00<?, ?it/s]"
      ]
     },
     "metadata": {},
     "output_type": "display_data"
    },
    {
     "name": "stdout",
     "output_type": "stream",
     "text": [
      "A fixed deposit (FD) is a type of investment instrument offered by banks and other financial institutions. It is a low-risk investment option where the investor deposits a fixed amount of money for a fixed period, typically ranging from a few months to several years. In exchange for keeping their money locked in the FD, the investor earns a fixed interest rate, which is usually higher than a regular savings account.\n",
      "\n",
      "Here are some key features of fixed deposits:\n",
      "\n",
      "1. Fixed Interest Rate: The interest rate on a fixed deposit is fixed for the entire tenure of the investment. This means that the investor knows exactly how much they will earn on their investment from the outset.\n",
      "2. Tenure: The tenure of a fixed deposit can vary from a few months to several years. The longer the tenure, the higher the interest rate.\n",
      "3. Lock-in Period: Once the money is deposited in an FD, it is locked in for the specified tenure. This means that the investor cannot withdraw the money before the end of the tenure without incurring penalties.\n"
     ]
    }
   ],
   "source": [
    "\n",
    "from intel_extension_for_transformers.neural_chat import build_chatbot\n",
    "from intel_extension_for_transformers.neural_chat import PipelineConfig\n",
    "from intel_extension_for_transformers.neural_chat.config import LoadingModelConfig\n",
    "\n",
    "config = PipelineConfig(model_name_or_path=\"meta-llama/Llama-2-7b-chat-hf\",\n",
    "                      loading_config=LoadingModelConfig(peft_path=\"./tmp\"))\n",
    "#replace ./tmp with the directory where the model folder has been stored\n",
    "chatbot = build_chatbot(config)\n",
    "response = chatbot.predict(query=\"Tell me about fix deposits\")\n",
    "print(response)"
   ]
  },
  {
   "cell_type": "code",
   "execution_count": null,
   "id": "1b3f3ca6-9f81-460f-bec8-4edda1ce4385",
   "metadata": {},
   "outputs": [],
   "source": []
  }
 ],
 "metadata": {
  "kernelspec": {
   "display_name": "neural_chat",
   "language": "python",
   "name": "neural_chat"
  },
  "language_info": {
   "codemirror_mode": {
    "name": "ipython",
    "version": 3
   },
   "file_extension": ".py",
   "mimetype": "text/x-python",
   "name": "python",
   "nbconvert_exporter": "python",
   "pygments_lexer": "ipython3",
   "version": "3.9.18"
  }
 },
 "nbformat": 4,
 "nbformat_minor": 5
}
